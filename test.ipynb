{
 "cells": [
  {
   "cell_type": "code",
   "execution_count": 2,
   "metadata": {},
   "outputs": [],
   "source": [
    "import openai\n",
    "from fastapi import FastAPI\n",
    "from langchain.chains import RetrievalQA\n",
    "from langchain.chat_models import ChatOpenAI\n",
    "from langchain.document_loaders import CSVLoader\n",
    "from langchain.embeddings import OpenAIEmbeddings\n",
    "from langchain.prompts import PromptTemplate\n",
    "from langchain.vectorstores import DocArrayInMemorySearch"
   ]
  },
  {
   "cell_type": "markdown",
   "metadata": {},
   "source": [
    "import all the imports"
   ]
  },
  {
   "cell_type": "code",
   "execution_count": 3,
   "metadata": {},
   "outputs": [],
   "source": [
    "app = FastAPI()\n",
    "\n",
    "def setup_chain():\n",
    "    # Define file path and template\n",
    "    file_path = 'Mental_Health_FAQ.csv'\n",
    "    template = \"Your template here\"  # Define your prompt template\n",
    "\n",
    "    # Initialize embeddings with OpenAI API Key\n",
    "    embeddings = OpenAIEmbeddings(api_key=\"sk-...BleU\")\n",
    "\n",
    "    # Load documents from CSV\n",
    "    loader = CSVLoader(filepath=file_path, encoding='utf-8')\n",
    "    docs = loader.load()\n",
    "\n",
    "    # Initialize prompt template\n",
    "    prompt = PromptTemplate(template=template, input_variables=docs)\n",
    "\n",
    "    # Create document search and retriever\n",
    "    db = DocArrayInMemorySearch.from_documents(docs, embeddings)\n",
    "    retriever = db.as_retriever()\n",
    "\n",
    "    # Initialize ChatOpenAI with corrected parameter name 'temperature'\n",
    "    llm = ChatOpenAI(temperature=0.7)\n",
    "\n",
    "    # Setup RetrievalQA chain\n",
    "    chain = RetrievalQA.from_chain_type(\n",
    "        llm=llm,\n",
    "        chain_type=\"stuff\",  # Use a valid chain type\n",
    "        retriever=retriever,\n",
    "        chain_type_kwargs={\"prompt\": prompt},  # Corrected variable name\n",
    "        verbose=True\n",
    "    )\n",
    "\n",
    "    return chain"
   ]
  },
  {
   "cell_type": "markdown",
   "metadata": {},
   "source": [
    "Looking at the green notes, we can see how each line of code does a different thing.\n"
   ]
  }
 ],
 "metadata": {
  "kernelspec": {
   "display_name": "base",
   "language": "python",
   "name": "python3"
  },
  "language_info": {
   "codemirror_mode": {
    "name": "ipython",
    "version": 3
   },
   "file_extension": ".py",
   "mimetype": "text/x-python",
   "name": "python",
   "nbconvert_exporter": "python",
   "pygments_lexer": "ipython3",
   "version": "3.9.16"
  }
 },
 "nbformat": 4,
 "nbformat_minor": 2
}
